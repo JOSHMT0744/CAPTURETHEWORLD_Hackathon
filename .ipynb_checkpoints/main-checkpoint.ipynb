{
 "cells": [
  {
   "cell_type": "markdown",
   "id": "e01b5bba",
   "metadata": {},
   "source": [
    "# Recipe Recommender"
   ]
  },
  {
   "cell_type": "code",
   "execution_count": 11,
   "id": "d828dcbc",
   "metadata": {},
   "outputs": [],
   "source": [
    "import ipywidgets as widgets \n",
    "from receipt_translate import getReceiptInfo, getItemList, removeStopWords\n",
    "from interface import getReceiptImage\n",
    "import pandas as pd\n",
    "from db import findRecipes\n",
    "import json"
   ]
  },
  {
   "cell_type": "code",
   "execution_count": 12,
   "id": "0845c5dc",
   "metadata": {},
   "outputs": [
    {
     "data": {
      "application/vnd.jupyter.widget-view+json": {
       "model_id": "72586fccb55e4d0983fd5d9dba19a6f2",
       "version_major": 2,
       "version_minor": 0
      },
      "text/plain": [
       "FileUpload(value=(), accept='image/*', description='Upload')"
      ]
     },
     "metadata": {},
     "output_type": "display_data"
    }
   ],
   "source": [
    "uploader = widgets.FileUpload(accept='image/*', multiple=False)\n",
    "display(uploader)"
   ]
  },
  {
   "cell_type": "markdown",
   "id": "63172a81",
   "metadata": {},
   "source": [
    "### View Image below"
   ]
  },
  {
   "cell_type": "code",
   "execution_count": 13,
   "id": "58ccf0fd",
   "metadata": {},
   "outputs": [
    {
     "data": {
      "application/vnd.jupyter.widget-view+json": {
       "model_id": "b630786143ac47b18114e04cade7d5f7",
       "version_major": 2,
       "version_minor": 0
      },
      "text/plain": [
       "Image(value=b'\\xff\\xd8\\xff\\xe0\\x00\\x10JFIF\\x00\\x01\\x01\\x00\\x00H\\x00H\\x00\\x00\\xff\\xe1\\x00XExif\\x00\\x00MM\\x00*\\x…"
      ]
     },
     "metadata": {},
     "output_type": "display_data"
    }
   ],
   "source": [
    "if uploader.value:\n",
    "    uploaded_file = uploader.value[0]\n",
    "    display(widgets.Image(value=uploaded_file.content.tobytes()))"
   ]
  },
  {
   "cell_type": "markdown",
   "id": "35d1e8e9",
   "metadata": {},
   "source": [
    "## Please enter the exact image path, so our software can process your receipt"
   ]
  },
  {
   "cell_type": "code",
   "execution_count": 14,
   "id": "52f205fb",
   "metadata": {},
   "outputs": [
    {
     "data": {
      "application/vnd.jupyter.widget-view+json": {
       "model_id": "8d6662cced714abeaa407d752c98eb34",
       "version_major": 2,
       "version_minor": 0
      },
      "text/plain": [
       "Text(value='', description='Image path:', placeholder='Enter full image path')"
      ]
     },
     "metadata": {},
     "output_type": "display_data"
    }
   ],
   "source": [
    "path_widget = widgets.Text(\n",
    "    placeholder='Enter full image path',\n",
    "    description='Image path:',\n",
    "    disabled=False   \n",
    ")\n",
    "display(path_widget)"
   ]
  },
  {
   "cell_type": "code",
   "execution_count": 15,
   "id": "369b8a4b",
   "metadata": {},
   "outputs": [
    {
     "ename": "OSError",
     "evalue": "[Errno 22] Invalid argument: '\"C:/Users/josht/Downloads/tesco_cake_receipt.jpg\"'",
     "output_type": "error",
     "traceback": [
      "\u001b[1;31m---------------------------------------------------------------------------\u001b[0m",
      "\u001b[1;31mOSError\u001b[0m                                   Traceback (most recent call last)",
      "Cell \u001b[1;32mIn[15], line 2\u001b[0m\n\u001b[0;32m      1\u001b[0m path \u001b[38;5;241m=\u001b[39m path_widget\u001b[38;5;241m.\u001b[39mvalue\u001b[38;5;241m.\u001b[39mreplace(\u001b[38;5;124m'\u001b[39m\u001b[38;5;130;01m\\\\\u001b[39;00m\u001b[38;5;124m'\u001b[39m,\u001b[38;5;124m'\u001b[39m\u001b[38;5;124m/\u001b[39m\u001b[38;5;124m'\u001b[39m) \n\u001b[1;32m----> 2\u001b[0m info \u001b[38;5;241m=\u001b[39m \u001b[43mgetReceiptInfo\u001b[49m\u001b[43m(\u001b[49m\u001b[43mpath\u001b[49m\u001b[43m)\u001b[49m\n\u001b[0;32m      3\u001b[0m display(file \u001b[38;5;241m=\u001b[39m path)\n",
      "File \u001b[1;32m~\\OneDrive - Durham University\\CAPTURETHEWORLD_Hackathon\\receipt_translate.py:18\u001b[0m, in \u001b[0;36mgetReceiptInfo\u001b[1;34m(imageFile)\u001b[0m\n\u001b[0;32m     11\u001b[0m \u001b[38;5;28;01mdef\u001b[39;00m \u001b[38;5;21mgetReceiptInfo\u001b[39m(imageFile):\n\u001b[0;32m     12\u001b[0m     receiptOcrEndpoint \u001b[38;5;241m=\u001b[39m \u001b[38;5;124m'\u001b[39m\u001b[38;5;124mhttps://ocr.asprise.com/api/v1/receipt\u001b[39m\u001b[38;5;124m'\u001b[39m \u001b[38;5;66;03m# Receipt OCR API endpoint\u001b[39;00m\n\u001b[0;32m     13\u001b[0m     r \u001b[38;5;241m=\u001b[39m requests\u001b[38;5;241m.\u001b[39mpost(receiptOcrEndpoint, data \u001b[38;5;241m=\u001b[39m { \\\n\u001b[0;32m     14\u001b[0m       \u001b[38;5;124m'\u001b[39m\u001b[38;5;124mclient_id\u001b[39m\u001b[38;5;124m'\u001b[39m: \u001b[38;5;124m'\u001b[39m\u001b[38;5;124mTEST\u001b[39m\u001b[38;5;124m'\u001b[39m,        \u001b[38;5;66;03m# Use 'TEST' for testing purpose \\\u001b[39;00m\n\u001b[0;32m     15\u001b[0m       \u001b[38;5;124m'\u001b[39m\u001b[38;5;124mrecognizer\u001b[39m\u001b[38;5;124m'\u001b[39m: \u001b[38;5;124m'\u001b[39m\u001b[38;5;124mauto\u001b[39m\u001b[38;5;124m'\u001b[39m,       \u001b[38;5;66;03m# can be 'US', 'CA', 'JP', 'SG' or 'auto' \\\u001b[39;00m\n\u001b[0;32m     16\u001b[0m       \u001b[38;5;124m'\u001b[39m\u001b[38;5;124mref_no\u001b[39m\u001b[38;5;124m'\u001b[39m: \u001b[38;5;124m'\u001b[39m\u001b[38;5;124mocr_python_123\u001b[39m\u001b[38;5;124m'\u001b[39m, \u001b[38;5;66;03m# optional caller provided ref code \\\u001b[39;00m\n\u001b[0;32m     17\u001b[0m       }, \\\n\u001b[1;32m---> 18\u001b[0m         files \u001b[38;5;241m=\u001b[39m {\u001b[38;5;124m\"\u001b[39m\u001b[38;5;124mfile\u001b[39m\u001b[38;5;124m\"\u001b[39m: \u001b[38;5;28;43mopen\u001b[39;49m\u001b[43m(\u001b[49m\u001b[43mimageFile\u001b[49m\u001b[43m,\u001b[49m\u001b[43m \u001b[49m\u001b[38;5;124;43m\"\u001b[39;49m\u001b[38;5;124;43mrb\u001b[39;49m\u001b[38;5;124;43m\"\u001b[39;49m\u001b[43m)\u001b[49m})\n\u001b[0;32m     19\u001b[0m     \u001b[38;5;28mprint\u001b[39m(r\u001b[38;5;241m.\u001b[39mtext)\n\u001b[0;32m     20\u001b[0m     \u001b[38;5;28;01mreturn\u001b[39;00m r\u001b[38;5;241m.\u001b[39mtext\n",
      "\u001b[1;31mOSError\u001b[0m: [Errno 22] Invalid argument: '\"C:/Users/josht/Downloads/tesco_cake_receipt.jpg\"'"
     ]
    }
   ],
   "source": [
    "path = path_widget.value.replace('\\\\','/') .replace(\"\\\"\", \"\")\n",
    "info = getReceiptInfo(path)\n",
    "display(file = path)"
   ]
  },
  {
   "cell_type": "code",
   "execution_count": 5,
   "id": "4f8ff87b",
   "metadata": {},
   "outputs": [
    {
     "ename": "NameError",
     "evalue": "name 'info' is not defined",
     "output_type": "error",
     "traceback": [
      "\u001b[1;31m---------------------------------------------------------------------------\u001b[0m",
      "\u001b[1;31mNameError\u001b[0m                                 Traceback (most recent call last)",
      "\u001b[1;32mc:\\Users\\josht\\OneDrive - Durham University\\CAPTURETHEWORLD_Hackathon\\main.ipynb Cell 9\u001b[0m line \u001b[0;36m1\n\u001b[1;32m----> <a href='vscode-notebook-cell:/c%3A/Users/josht/OneDrive%20-%20Durham%20University/CAPTURETHEWORLD_Hackathon/main.ipynb#Y356sZmlsZQ%3D%3D?line=0'>1</a>\u001b[0m json_info \u001b[39m=\u001b[39m json\u001b[39m.\u001b[39mloads(info)\n\u001b[0;32m      <a href='vscode-notebook-cell:/c%3A/Users/josht/OneDrive%20-%20Durham%20University/CAPTURETHEWORLD_Hackathon/main.ipynb#Y356sZmlsZQ%3D%3D?line=1'>2</a>\u001b[0m \u001b[39mif\u001b[39;00m json_info[\u001b[39m'\u001b[39m\u001b[39mreceipts\u001b[39m\u001b[39m'\u001b[39m]:\n\u001b[0;32m      <a href='vscode-notebook-cell:/c%3A/Users/josht/OneDrive%20-%20Durham%20University/CAPTURETHEWORLD_Hackathon/main.ipynb#Y356sZmlsZQ%3D%3D?line=2'>3</a>\u001b[0m     info \u001b[39m=\u001b[39m getItemList(info)\n",
      "\u001b[1;31mNameError\u001b[0m: name 'info' is not defined"
     ]
    }
   ],
   "source": [
    "json_info = json.loads(info)\n",
    "if json_info['receipts']:\n",
    "    info = getItemList(info)\n",
    "    info = removeStopWords(info)\n",
    "    top_3_recipes = findRecipes(info)\n",
    "elif json_info['message']:\n",
    "    print(info['message'])\n",
    "else:\n",
    "    print(\"Unknown error occured. Please come again later\")"
   ]
  },
  {
   "cell_type": "code",
   "execution_count": null,
   "id": "ad51dc68",
   "metadata": {},
   "outputs": [],
   "source": [
    "output = widgets.Output()\n",
    " \n",
    "with output:\n",
    "    display(HTML(top_3_recipes.to_html()))\n",
    "display(widgets.VBox(children=[output], layout={\"height\": \"300px\", \"scroll\": \"auto\"}))"
   ]
  }
 ],
 "metadata": {
  "kernelspec": {
   "display_name": "Python 3 (ipykernel)",
   "language": "python",
   "name": "python3"
  },
  "language_info": {
   "codemirror_mode": {
    "name": "ipython",
    "version": 3
   },
   "file_extension": ".py",
   "mimetype": "text/x-python",
   "name": "python",
   "nbconvert_exporter": "python",
   "pygments_lexer": "ipython3",
   "version": "3.10.13"
  }
 },
 "nbformat": 4,
 "nbformat_minor": 5
}
