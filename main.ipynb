{
 "cells": [
  {
   "cell_type": "markdown",
   "id": "d29af27d",
   "metadata": {},
   "source": []
  },
  {
   "cell_type": "code",
   "execution_count": 1,
   "id": "d828dcbc",
   "metadata": {},
   "outputs": [
    {
     "name": "stderr",
     "output_type": "stream",
     "text": [
      "[nltk_data] Downloading package stopwords to\n",
      "[nltk_data]     C:\\Users\\josht\\AppData\\Roaming\\nltk_data...\n",
      "[nltk_data]   Package stopwords is already up-to-date!\n"
     ]
    }
   ],
   "source": [
    "import ipywidgets as widgets \n",
    "from receipt_translate import getReceiptInfo, getItemList, removeStopWords\n",
    "from interface import getReceiptImage"
   ]
  },
  {
   "cell_type": "code",
   "execution_count": 2,
   "id": "0845c5dc",
   "metadata": {},
   "outputs": [
    {
     "data": {
      "application/vnd.jupyter.widget-view+json": {
       "model_id": "a76b6a2f13334a66a041b0419e1c8041",
       "version_major": 2,
       "version_minor": 0
      },
      "text/plain": [
       "FileUpload(value=(), description='Upload')"
      ]
     },
     "metadata": {},
     "output_type": "display_data"
    }
   ],
   "source": [
    "uploader = widgets.FileUpload()\n",
    "display(uploader)"
   ]
  },
  {
   "cell_type": "code",
   "execution_count": 4,
   "id": "58ccf0fd",
   "metadata": {},
   "outputs": [],
   "source": [
    "uploaded_file = uploader.value[0]"
   ]
  },
  {
   "cell_type": "markdown",
   "id": "5a93c5f6",
   "metadata": {},
   "source": [
    "## Please enter the exact image path, so our software can process your receipt"
   ]
  },
  {
   "cell_type": "code",
   "execution_count": 6,
   "id": "99e6b336",
   "metadata": {},
   "outputs": [
    {
     "data": {
      "application/vnd.jupyter.widget-view+json": {
       "model_id": "a3cfdb22ac8c444b933606bb8a506c87",
       "version_major": 2,
       "version_minor": 0
      },
      "text/plain": [
       "Text(value='', description='Image path:', placeholder='Enter full image path')"
      ]
     },
     "metadata": {},
     "output_type": "display_data"
    }
   ],
   "source": [
    "path_widget = widgets.Text(\n",
    "    placeholder='Enter full image path',\n",
    "    description='Image path:',\n",
    "    disabled=False   \n",
    ")\n",
    "display(path_widget)"
   ]
  },
  {
   "cell_type": "code",
   "execution_count": 7,
   "id": "e6121f73",
   "metadata": {},
   "outputs": [
    {
     "name": "stdout",
     "output_type": "stream",
     "text": [
      "{\n",
      "  \"ref_no\" : \"ocr_python_123\",\n",
      "  \"success\" : false,\n",
      "  \"message\" : \"Hourly quota exceeded. Try again in a few hours or contact us to increase the quota: ocr@asprise.com\",\n",
      "  \"get_help\" : \"Please contact support@asprise.com for assistance.\"\n",
      "}\n"
     ]
    }
   ],
   "source": [
    "path = path_widget.value.replace('\\\\','/') \n",
    "info = getReceiptInfo(path)\n",
    "display(file = path)"
   ]
  },
  {
   "cell_type": "code",
   "execution_count": 8,
   "id": "4f8ff87b",
   "metadata": {},
   "outputs": [
    {
     "ename": "KeyError",
     "evalue": "'receipts'",
     "output_type": "error",
     "traceback": [
      "\u001b[1;31m---------------------------------------------------------------------------\u001b[0m",
      "\u001b[1;31mKeyError\u001b[0m                                  Traceback (most recent call last)",
      "Cell \u001b[1;32mIn[8], line 1\u001b[0m\n\u001b[1;32m----> 1\u001b[0m info \u001b[38;5;241m=\u001b[39m \u001b[43mgetItemList\u001b[49m\u001b[43m(\u001b[49m\u001b[43minfo\u001b[49m\u001b[43m)\u001b[49m\n\u001b[0;32m      2\u001b[0m info \u001b[38;5;241m=\u001b[39m removeStopWords(info)\n",
      "File \u001b[1;32m~\\OneDrive - Durham University\\CAPTURETHEWORLD_Hackathon\\receipt_translate.py:27\u001b[0m, in \u001b[0;36mgetItemList\u001b[1;34m(info)\u001b[0m\n\u001b[0;32m     25\u001b[0m single_char_regex \u001b[38;5;241m=\u001b[39m \u001b[38;5;124m'\u001b[39m\u001b[38;5;124m(\u001b[39m\u001b[38;5;130;01m\\\\\u001b[39;00m\u001b[38;5;124mb[a-z] \u001b[39m\u001b[38;5;130;01m\\\\\u001b[39;00m\u001b[38;5;124mb|\u001b[39m\u001b[38;5;130;01m\\\\\u001b[39;00m\u001b[38;5;124mb [a-z]\u001b[39m\u001b[38;5;130;01m\\\\\u001b[39;00m\u001b[38;5;124mb)\u001b[39m\u001b[38;5;124m'\u001b[39m\n\u001b[0;32m     26\u001b[0m info_json \u001b[38;5;241m=\u001b[39m json\u001b[38;5;241m.\u001b[39mloads(info)\n\u001b[1;32m---> 27\u001b[0m items_json \u001b[38;5;241m=\u001b[39m \u001b[43minfo_json\u001b[49m\u001b[43m[\u001b[49m\u001b[38;5;124;43m'\u001b[39;49m\u001b[38;5;124;43mreceipts\u001b[39;49m\u001b[38;5;124;43m'\u001b[39;49m\u001b[43m]\u001b[49m[\u001b[38;5;241m0\u001b[39m][\u001b[38;5;124m'\u001b[39m\u001b[38;5;124mitems\u001b[39m\u001b[38;5;124m'\u001b[39m]\n\u001b[0;32m     28\u001b[0m description_list \u001b[38;5;241m=\u001b[39m []\n\u001b[0;32m     29\u001b[0m \u001b[38;5;28;01mfor\u001b[39;00m item \u001b[38;5;129;01min\u001b[39;00m items_json:\n",
      "\u001b[1;31mKeyError\u001b[0m: 'receipts'"
     ]
    }
   ],
   "source": [
    "info = getItemList(info)\n",
    "info = removeStopWords(info)"
   ]
  },
  {
   "cell_type": "code",
   "execution_count": null,
   "id": "c92b3ab7",
   "metadata": {},
   "outputs": [],
   "source": []
  }
 ],
 "metadata": {
  "kernelspec": {
   "display_name": "Python 3 (ipykernel)",
   "language": "python",
   "name": "python3"
  },
  "language_info": {
   "codemirror_mode": {
    "name": "ipython",
    "version": 3
   },
   "file_extension": ".py",
   "mimetype": "text/x-python",
   "name": "python",
   "nbconvert_exporter": "python",
   "pygments_lexer": "ipython3",
   "version": "3.10.13"
  }
 },
 "nbformat": 4,
 "nbformat_minor": 5
}
