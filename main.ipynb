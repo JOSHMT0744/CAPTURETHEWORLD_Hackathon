{
 "cells": [
  {
   "cell_type": "markdown",
   "id": "e01b5bba",
   "metadata": {},
   "source": [
    "# Recipe Recommender"
   ]
  },
  {
   "cell_type": "code",
   "execution_count": 11,
   "id": "d828dcbc",
   "metadata": {},
   "outputs": [],
   "source": [
    "import ipywidgets as widgets \n",
    "from receipt_translate import getReceiptInfo, getItemList, removeStopWords\n",
    "from interface import getReceiptImage\n",
    "import pandas as pd\n",
    "from db import findRecipes\n",
    "import json"
   ]
  },
  {
   "cell_type": "code",
   "execution_count": 12,
   "id": "0845c5dc",
   "metadata": {},
   "outputs": [
    {
     "data": {
      "application/vnd.jupyter.widget-view+json": {
       "model_id": "72586fccb55e4d0983fd5d9dba19a6f2",
       "version_major": 2,
       "version_minor": 0
      },
      "text/plain": [
       "FileUpload(value=(), accept='image/*', description='Upload')"
      ]
     },
     "metadata": {},
     "output_type": "display_data"
    }
   ],
   "source": [
    "uploader = widgets.FileUpload(accept='image/*', multiple=False)\n",
    "display(uploader)"
   ]
  },
  {
   "cell_type": "markdown",
   "id": "63172a81",
   "metadata": {},
   "source": [
    "### View Image below"
   ]
  },
  {
   "cell_type": "code",
   "execution_count": 13,
   "id": "58ccf0fd",
   "metadata": {},
   "outputs": [
    {
     "data": {
      "application/vnd.jupyter.widget-view+json": {
       "model_id": "b630786143ac47b18114e04cade7d5f7",
       "version_major": 2,
       "version_minor": 0
      },
      "text/plain": [
       "Image(value=b'\\xff\\xd8\\xff\\xe0\\x00\\x10JFIF\\x00\\x01\\x01\\x00\\x00H\\x00H\\x00\\x00\\xff\\xe1\\x00XExif\\x00\\x00MM\\x00*\\x…"
      ]
     },
     "metadata": {},
     "output_type": "display_data"
    }
   ],
   "source": [
    "if uploader.value:\n",
    "    uploaded_file = uploader.value[0]\n",
    "    display(widgets.Image(value=uploaded_file.content.tobytes()))"
   ]
  },
  {
   "cell_type": "markdown",
   "id": "35d1e8e9",
   "metadata": {},
   "source": [
    "## Please enter the exact image path, so our software can process your receipt"
   ]
  },
  {
   "cell_type": "code",
   "execution_count": 16,
   "id": "52f205fb",
   "metadata": {},
   "outputs": [
    {
     "data": {
      "application/vnd.jupyter.widget-view+json": {
       "model_id": "2c027786e69d4c83a1220da149bf9d17",
       "version_major": 2,
       "version_minor": 0
      },
      "text/plain": [
       "Text(value='', description='Image path:', placeholder='Enter full image path')"
      ]
     },
     "metadata": {},
     "output_type": "display_data"
    }
   ],
   "source": [
    "path_widget = widgets.Text(\n",
    "    placeholder='Enter full image path',\n",
    "    description='Image path:',\n",
    "    disabled=False   \n",
    ")\n",
    "display(path_widget)"
   ]
  },
  {
   "cell_type": "code",
   "execution_count": 18,
   "id": "369b8a4b",
   "metadata": {},
   "outputs": [
    {
     "name": "stdout",
     "output_type": "stream",
     "text": [
      "{\n",
      "  \"ocr_type\" : \"receipts\",\n",
      "  \"request_id\" : \"P_87.75.27.53_lodcsp3t_bhj\",\n",
      "  \"ref_no\" : \"ocr_python_123\",\n",
      "  \"file_name\" : \"tesco_cake_receipt.jpg\",\n",
      "  \"request_received_on\" : 1698697776665,\n",
      "  \"success\" : true,\n",
      "  \"image_width\" : 640,\n",
      "  \"image_height\" : 480,\n",
      "  \"image_rotation\" : -1.550,\n",
      "  \"recognition_completed_on\" : 1698697777018,\n",
      "  \"receipts\" : [ {\n",
      "    \"merchant_name\" : \"Durhan Market Place Express\",\n",
      "    \"merchant_address\" : \"Durhan Market Place Express\",\n",
      "    \"merchant_phone\" : null,\n",
      "    \"merchant_website\" : null,\n",
      "    \"merchant_tax_reg_no\" : null,\n",
      "    \"merchant_company_reg_no\" : null,\n",
      "    \"region\" : null,\n",
      "    \"mall\" : null,\n",
      "    \"country\" : \"GB\",\n",
      "    \"receipt_no\" : \"A0000000041010\",\n",
      "    \"date\" : \"2023-10-23\",\n",
      "    \"time\" : \"11:41\",\n",
      "    \"items\" : [ {\n",
      "      \"amount\" : 1.40,\n",
      "      \"category\" : null,\n",
      "      \"description\" : \"Tesco British Double Cream\",\n",
      "      \"flags\" : \"\",\n",
      "      \"qty\" : 1,\n",
      "      \"remarks\" : null,\n",
      "      \"tags\" : null,\n",
      "      \"unitPrice\" : null\n",
      "    }, {\n",
      "      \"amount\" : 2.30,\n",
      "      \"category\" : null,\n",
      "      \"description\" : \"Tesco Strawberries 227g (c)\",\n",
      "      \"flags\" : \"\",\n",
      "      \"qty\" : 1,\n",
      "      \"remarks\" : null,\n",
      "      \"tags\" : null,\n",
      "      \"unitPrice\" : null\n",
      "    }, {\n",
      "      \"amount\" : 1.40,\n",
      "      \"category\" : null,\n",
      "      \"description\" : \"Tesco Chocolate Sponge Cake\",\n",
      "      \"flags\" : \"\",\n",
      "      \"qty\" : 1,\n",
      "      \"remarks\" : null,\n",
      "      \"tags\" : null,\n",
      "      \"unitPrice\" : null\n",
      "    }, {\n",
      "      \"amount\" : 1.25,\n",
      "      \"category\" : null,\n",
      "      \"description\" : \"Tesco Dark Cooking Chocolate\",\n",
      "      \"flags\" : \"\",\n",
      "      \"qty\" : null,\n",
      "      \"remarks\" : null,\n",
      "      \"tags\" : null,\n",
      "      \"unitPrice\" : null\n",
      "    } ],\n",
      "    \"currency\" : \"GBP\",\n",
      "    \"total\" : 6.35,\n",
      "    \"subtotal\" : null,\n",
      "    \"tax\" : null,\n",
      "    \"service_charge\" : null,\n",
      "    \"tip\" : null,\n",
      "    \"payment_method\" : null,\n",
      "    \"payment_details\" : null,\n",
      "    \"credit_card_type\" : \"MASTER\",\n",
      "    \"credit_card_number\" : \"3403\",\n",
      "    \"ocr_text\" : \"          Durhan Market Place Express\\n           Any questions please visit\\n          www.tesco.com/store-locator\\n           VAT Number: G8 220 4302 31\\n  1   Tesco British Double Cream         1.40\\n      300ml\\n 1    Tesco Strawberries 227g (c)       £ 2.30\\n 1    Tesco Chocolate Sponge Cake        1.40\\n      Mix 400g\\n      Tesco Dark Cooking Chocolate       1.25\\n      150g\\n  TOTAL:                                 £ 6.35\\n     Card                               £ 6.35\\n Clubcard points earned:                     6\\n Clubcard points balance:                 120\\n Mastercard Debit\\n                                A0000000041010\\n Numbers                      ************ 3403\\n Pan sequence no:                           00\\n Authorisation code:                    655691\\n Merchant                             26284805\\n   A chance to win a £ 1000 Tesco gift card\\n       and collect 25 Clubcard points.\\n  Visit www.tescoviews.com t's & c's apply.\\n             656E-12PD-NO32-B3ZM\\n 23/10/2023 11:41 Store: 6029 Checkout: 208\",\n",
      "    \"ocr_confidence\" : 95.54,\n",
      "    \"width\" : 237,\n",
      "    \"height\" : 399,\n",
      "    \"avg_char_width\" : 5.2321,\n",
      "    \"avg_line_height\" : 9.1,\n",
      "    \"conf_amount\" : 74,\n",
      "    \"source_locations\" : {\n",
      "      \"date\" : [ [ {\n",
      "        \"y\" : 395,\n",
      "        \"x\" : 511\n",
      "      }, {\n",
      "        \"y\" : 296,\n",
      "        \"x\" : 513\n",
      "      }, {\n",
      "        \"y\" : 296,\n",
      "        \"x\" : 527\n",
      "      }, {\n",
      "        \"y\" : 395,\n",
      "        \"x\" : 525\n",
      "      } ] ],\n",
      "      \"total\" : [ [ {\n",
      "        \"y\" : 177,\n",
      "        \"x\" : 277\n",
      "      }, {\n",
      "        \"y\" : 148,\n",
      "        \"x\" : 277\n",
      "      }, {\n",
      "        \"y\" : 148,\n",
      "        \"x\" : 284\n",
      "      }, {\n",
      "        \"y\" : 177,\n",
      "        \"x\" : 284\n",
      "      } ] ],\n",
      "      \"receipt_no\" : [ [ {\n",
      "        \"y\" : 227,\n",
      "        \"x\" : 348\n",
      "      }, {\n",
      "        \"y\" : 147,\n",
      "        \"x\" : 348\n",
      "      }, {\n",
      "        \"y\" : 147,\n",
      "        \"x\" : 357\n",
      "      }, {\n",
      "        \"y\" : 227,\n",
      "        \"x\" : 357\n",
      "      } ] ],\n",
      "      \"merchant_name\" : [ [ {\n",
      "        \"y\" : 337,\n",
      "        \"x\" : 134\n",
      "      }, {\n",
      "        \"y\" : 186,\n",
      "        \"x\" : 136\n",
      "      }, {\n",
      "        \"y\" : 186,\n",
      "        \"x\" : 147\n",
      "      }, {\n",
      "        \"y\" : 337,\n",
      "        \"x\" : 144\n",
      "      } ] ],\n",
      "      \"doc\" : [ [ {\n",
      "        \"y\" : 394,\n",
      "        \"x\" : 110\n",
      "      }, {\n",
      "        \"y\" : 132,\n",
      "        \"x\" : 116\n",
      "      }, {\n",
      "        \"y\" : 141,\n",
      "        \"x\" : 555\n",
      "      }, {\n",
      "        \"y\" : 403,\n",
      "        \"x\" : 549\n",
      "      } ] ],\n",
      "      \"merchant_address\" : [ [ {\n",
      "        \"y\" : 345,\n",
      "        \"x\" : 133\n",
      "      }, {\n",
      "        \"y\" : 178,\n",
      "        \"x\" : 136\n",
      "      }, {\n",
      "        \"y\" : 178,\n",
      "        \"x\" : 148\n",
      "      }, {\n",
      "        \"y\" : 345,\n",
      "        \"x\" : 144\n",
      "      } ] ]\n",
      "    }\n",
      "  } ]\n",
      "}\n"
     ]
    }
   ],
   "source": [
    "path = path_widget.value.replace('\\\\','/') .replace(\"\\\"\", \"\")\n",
    "info = getReceiptInfo(path)\n",
    "display(file = path)"
   ]
  },
  {
   "cell_type": "code",
   "execution_count": null,
   "id": "4f8ff87b",
   "metadata": {},
   "outputs": [
    {
     "name": "stdout",
     "output_type": "stream",
     "text": [
      "['cream', 'double cream', 'british double cream', 'strawberries', 'cake', 'sponge cake', 'chocolate sponge cake', 'chocolate', 'cooking chocolate', 'dark cooking chocolate']\n",
      "\\[(')*(.*(, '.*')*'.*(cream|double cream|british double cream|strawberries|cake|sponge cake|chocolate sponge cake|chocolate|cooking chocolate|dark cooking chocolate)'(, '.*')*)+(.*(, '.*')*'.*(cream|double cream|british double cream|strawberries|cake|sponge cake|chocolate sponge cake|chocolate|cooking chocolate|dark cooking chocolate)'(, '.*')*)+(.*(, '.*')*'.*(cream|double cream|british double cream|strawberries|cake|sponge cake|chocolate sponge cake|chocolate|cooking chocolate|dark cooking chocolate)'(, '.*')*)+(.*(, '.*')*'.*(cream|double cream|british double cream|strawberries|cake|sponge cake|chocolate sponge cake|chocolate|cooking chocolate|dark cooking chocolate)'(, '.*')*)+(.*(, '.*')*'.*(cream|double cream|british double cream|strawberries|cake|sponge cake|chocolate sponge cake|chocolate|cooking chocolate|dark cooking chocolate)'(, '.*')*)+(.*(, '.*')*'.*(cream|double cream|british double cream|strawberries|cake|sponge cake|chocolate sponge cake|chocolate|cooking chocolate|dark cooking chocolate)'(, '.*')*)+(.*(, '.*')*'.*(cream|double cream|british double cream|strawberries|cake|sponge cake|chocolate sponge cake|chocolate|cooking chocolate|dark cooking chocolate)'(, '.*')*)+(.*(, '.*')*'.*(cream|double cream|british double cream|strawberries|cake|sponge cake|chocolate sponge cake|chocolate|cooking chocolate|dark cooking chocolate)'(, '.*')*)+(.*(, '.*')*'.*(cream|double cream|british double cream|strawberries|cake|sponge cake|chocolate sponge cake|chocolate|cooking chocolate|dark cooking chocolate)'(, '.*')*)+(.*(, '.*')*'.*(cream|double cream|british double cream|strawberries|cake|sponge cake|chocolate sponge cake|chocolate|cooking chocolate|dark cooking chocolate)'(, '.*')*)+\\]\n"
     ]
    }
   ],
   "source": [
    "json_info = json.loads(info)\n",
    "if json_info['receipts']:\n",
    "    info = getItemList(info)\n",
    "    info = removeStopWords(info)\n",
    "    top_3_recipes = findRecipes(info)\n",
    "elif json_info['message']:\n",
    "    print(info['message'])\n",
    "else:\n",
    "    print(\"Unknown error occured. Please come again later\")"
   ]
  },
  {
   "cell_type": "code",
   "execution_count": null,
   "id": "ad51dc68",
   "metadata": {},
   "outputs": [],
   "source": [
    "output = widgets.Output()\n",
    "if len(top_3_recipes) == 0:\n",
    "    with output:\n",
    "        print(\"No recipes found\")\n",
    "else:\n",
    "    with output:\n",
    "        display(HTML(top_3_recipes.to_html()))\n",
    "    display(widgets.VBox(children=[output], layout={\"height\": \"300px\", \"scroll\": \"auto\"}))"
   ]
  }
 ],
 "metadata": {
  "kernelspec": {
   "display_name": "Python 3 (ipykernel)",
   "language": "python",
   "name": "python3"
  },
  "language_info": {
   "codemirror_mode": {
    "name": "ipython",
    "version": 3
   },
   "file_extension": ".py",
   "mimetype": "text/x-python",
   "name": "python",
   "nbconvert_exporter": "python",
   "pygments_lexer": "ipython3",
   "version": "3.10.13"
  }
 },
 "nbformat": 4,
 "nbformat_minor": 5
}
