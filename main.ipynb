{
 "cells": [
  {
   "cell_type": "markdown",
   "id": "94c305a7",
   "metadata": {},
   "source": []
  },
  {
   "cell_type": "code",
   "execution_count": 1,
   "id": "d828dcbc",
   "metadata": {},
   "outputs": [
    {
     "name": "stderr",
     "output_type": "stream",
     "text": [
      "[nltk_data] Downloading package stopwords to\n",
      "[nltk_data]     C:\\Users\\josht\\AppData\\Roaming\\nltk_data...\n",
      "[nltk_data]   Package stopwords is already up-to-date!\n"
     ]
    }
   ],
   "source": [
    "import ipywidgets as widgets \n",
    "from receipt_translate import getReceiptInfo, getItemList, removeStopWords\n",
    "from interface import getReceiptImage\n",
    "import json"
   ]
  },
  {
   "cell_type": "code",
   "execution_count": 3,
   "id": "0845c5dc",
   "metadata": {},
   "outputs": [
    {
     "data": {
      "application/vnd.jupyter.widget-view+json": {
       "model_id": "e8c949627772437e954fe55c887fc163",
       "version_major": 2,
       "version_minor": 0
      },
      "text/plain": [
       "FileUpload(value=(), accept='image/*', description='Upload')"
      ]
     },
     "metadata": {},
     "output_type": "display_data"
    }
   ],
   "source": [
    "uploader = widgets.FileUpload(accept='image/*', multiple=False)\n",
    "display(uploader)"
   ]
  },
  {
   "cell_type": "markdown",
   "id": "eb2d86b4",
   "metadata": {},
   "source": [
    "### View Image below"
   ]
  },
  {
   "cell_type": "code",
   "execution_count": 7,
   "id": "58ccf0fd",
   "metadata": {},
   "outputs": [
    {
     "data": {
      "application/vnd.jupyter.widget-view+json": {
       "model_id": "90c55858cec5429db4a964545f1c54bb",
       "version_major": 2,
       "version_minor": 0
      },
      "text/plain": [
       "Image(value=b'\\xff\\xd8\\xff\\xe0\\x00\\x10JFIF\\x00\\x01\\x01\\x00\\x00H\\x00H\\x00\\x00\\xff\\xe1\\x00XExif\\x00\\x00MM\\x00*\\x…"
      ]
     },
     "execution_count": 7,
     "metadata": {},
     "output_type": "execute_result"
    }
   ],
   "source": [
    "uploaded_file = uploader.value[0]\n",
    "widgets.Image(value=uploaded_file.content.tobytes())"
   ]
  },
  {
   "cell_type": "markdown",
   "id": "e6f07bb5",
   "metadata": {},
   "source": [
    "## Please enter the exact image path, so our software can process your receipt"
   ]
  },
  {
   "cell_type": "code",
   "execution_count": 4,
   "id": "33da0cea",
   "metadata": {},
   "outputs": [
    {
     "data": {
      "application/vnd.jupyter.widget-view+json": {
       "model_id": "cdb6756429324f05bafbb5b8eb0099a8",
       "version_major": 2,
       "version_minor": 0
      },
      "text/plain": [
       "Text(value='', description='Image path:', placeholder='Enter full image path')"
      ]
     },
     "metadata": {},
     "output_type": "display_data"
    }
   ],
   "source": [
    "path_widget = widgets.Text(\n",
    "    placeholder='Enter full image path',\n",
    "    description='Image path:',\n",
    "    disabled=False   \n",
    ")\n",
    "display(path_widget)"
   ]
  },
  {
   "cell_type": "code",
   "execution_count": 5,
   "id": "d316b8e5",
   "metadata": {},
   "outputs": [
    {
     "name": "stdout",
     "output_type": "stream",
     "text": [
      "{\n",
      "  \"ocr_type\" : \"receipts\",\n",
      "  \"request_id\" : \"P_129.234.0.187_lod8fq8w_i7f\",\n",
      "  \"ref_no\" : \"ocr_python_123\",\n",
      "  \"file_name\" : \"tesco_cake_receipt.jpg\",\n",
      "  \"request_received_on\" : 1698690453153,\n",
      "  \"success\" : true,\n",
      "  \"image_width\" : 640,\n",
      "  \"image_height\" : 480,\n",
      "  \"image_rotation\" : -1.550,\n",
      "  \"recognition_completed_on\" : 1698690453646,\n",
      "  \"receipts\" : [ {\n",
      "    \"merchant_name\" : \"Durhan Market Place Express\",\n",
      "    \"merchant_address\" : \"Durhan Market Place Express\",\n",
      "    \"merchant_phone\" : null,\n",
      "    \"merchant_website\" : null,\n",
      "    \"merchant_tax_reg_no\" : null,\n",
      "    \"merchant_company_reg_no\" : null,\n",
      "    \"region\" : null,\n",
      "    \"mall\" : null,\n",
      "    \"country\" : \"GB\",\n",
      "    \"receipt_no\" : \"A0000000041010\",\n",
      "    \"date\" : \"2023-10-23\",\n",
      "    \"time\" : \"11:41\",\n",
      "    \"items\" : [ {\n",
      "      \"amount\" : 1.40,\n",
      "      \"category\" : null,\n",
      "      \"description\" : \"Tesco British Double Cream\",\n",
      "      \"flags\" : \"\",\n",
      "      \"qty\" : 1,\n",
      "      \"remarks\" : null,\n",
      "      \"tags\" : null,\n",
      "      \"unitPrice\" : null\n",
      "    }, {\n",
      "      \"amount\" : 2.30,\n",
      "      \"category\" : null,\n",
      "      \"description\" : \"Tesco Strawberries 227g (c)\",\n",
      "      \"flags\" : \"\",\n",
      "      \"qty\" : 1,\n",
      "      \"remarks\" : null,\n",
      "      \"tags\" : null,\n",
      "      \"unitPrice\" : null\n",
      "    }, {\n",
      "      \"amount\" : 1.40,\n",
      "      \"category\" : null,\n",
      "      \"description\" : \"Tesco Chocolate Sponge Cake\",\n",
      "      \"flags\" : \"\",\n",
      "      \"qty\" : 1,\n",
      "      \"remarks\" : null,\n",
      "      \"tags\" : null,\n",
      "      \"unitPrice\" : null\n",
      "    }, {\n",
      "      \"amount\" : 1.25,\n",
      "      \"category\" : null,\n",
      "      \"description\" : \"Tesco Dark Cooking Chocolate\",\n",
      "      \"flags\" : \"\",\n",
      "      \"qty\" : null,\n",
      "      \"remarks\" : null,\n",
      "      \"tags\" : null,\n",
      "      \"unitPrice\" : null\n",
      "    } ],\n",
      "    \"currency\" : \"GBP\",\n",
      "    \"total\" : 6.35,\n",
      "    \"subtotal\" : null,\n",
      "    \"tax\" : null,\n",
      "    \"service_charge\" : null,\n",
      "    \"tip\" : null,\n",
      "    \"payment_method\" : null,\n",
      "    \"payment_details\" : null,\n",
      "    \"credit_card_type\" : \"MASTER\",\n",
      "    \"credit_card_number\" : \"3403\",\n",
      "    \"ocr_text\" : \"          Durhan Market Place Express\\n           Any questions please visit\\n          www.tesco.com/store-locator\\n           VAT Number: G8 220 4302 31\\n  1   Tesco British Double Cream         1.40\\n      300ml\\n 1    Tesco Strawberries 227g (c)       £ 2.30\\n 1    Tesco Chocolate Sponge Cake        1.40\\n      Mix 400g\\n      Tesco Dark Cooking Chocolate       1.25\\n      150g\\n  TOTAL:                                 £ 6.35\\n     Card                               £ 6.35\\n Clubcard points earned:                     6\\n Clubcard points balance:                 120\\n Mastercard Debit\\n                                A0000000041010\\n Numbers                      ************ 3403\\n Pan sequence no:                           00\\n Authorisation code:                    655691\\n Merchant                             26284805\\n   A chance to win a £ 1000 Tesco gift card\\n       and collect 25 Clubcard points.\\n  Visit www.tescoviews.com t's & c's apply.\\n             656E-12PD-NO32-B3ZM\\n 23/10/2023 11:41 Store: 6029 Checkout: 208\",\n",
      "    \"ocr_confidence\" : 95.54,\n",
      "    \"width\" : 237,\n",
      "    \"height\" : 399,\n",
      "    \"avg_char_width\" : 5.2321,\n",
      "    \"avg_line_height\" : 9.1,\n",
      "    \"conf_amount\" : 74,\n",
      "    \"source_locations\" : {\n",
      "      \"date\" : [ [ {\n",
      "        \"y\" : 395,\n",
      "        \"x\" : 511\n",
      "      }, {\n",
      "        \"y\" : 296,\n",
      "        \"x\" : 513\n",
      "      }, {\n",
      "        \"y\" : 296,\n",
      "        \"x\" : 527\n",
      "      }, {\n",
      "        \"y\" : 395,\n",
      "        \"x\" : 525\n",
      "      } ] ],\n",
      "      \"total\" : [ [ {\n",
      "        \"y\" : 177,\n",
      "        \"x\" : 277\n",
      "      }, {\n",
      "        \"y\" : 148,\n",
      "        \"x\" : 277\n",
      "      }, {\n",
      "        \"y\" : 148,\n",
      "        \"x\" : 284\n",
      "      }, {\n",
      "        \"y\" : 177,\n",
      "        \"x\" : 284\n",
      "      } ] ],\n",
      "      \"receipt_no\" : [ [ {\n",
      "        \"y\" : 227,\n",
      "        \"x\" : 348\n",
      "      }, {\n",
      "        \"y\" : 147,\n",
      "        \"x\" : 348\n",
      "      }, {\n",
      "        \"y\" : 147,\n",
      "        \"x\" : 357\n",
      "      }, {\n",
      "        \"y\" : 227,\n",
      "        \"x\" : 357\n",
      "      } ] ],\n",
      "      \"merchant_name\" : [ [ {\n",
      "        \"y\" : 337,\n",
      "        \"x\" : 134\n",
      "      }, {\n",
      "        \"y\" : 186,\n",
      "        \"x\" : 136\n",
      "      }, {\n",
      "        \"y\" : 186,\n",
      "        \"x\" : 147\n",
      "      }, {\n",
      "        \"y\" : 337,\n",
      "        \"x\" : 144\n",
      "      } ] ],\n",
      "      \"doc\" : [ [ {\n",
      "        \"y\" : 394,\n",
      "        \"x\" : 110\n",
      "      }, {\n",
      "        \"y\" : 132,\n",
      "        \"x\" : 116\n",
      "      }, {\n",
      "        \"y\" : 141,\n",
      "        \"x\" : 555\n",
      "      }, {\n",
      "        \"y\" : 403,\n",
      "        \"x\" : 549\n",
      "      } ] ],\n",
      "      \"merchant_address\" : [ [ {\n",
      "        \"y\" : 345,\n",
      "        \"x\" : 133\n",
      "      }, {\n",
      "        \"y\" : 178,\n",
      "        \"x\" : 136\n",
      "      }, {\n",
      "        \"y\" : 178,\n",
      "        \"x\" : 148\n",
      "      }, {\n",
      "        \"y\" : 345,\n",
      "        \"x\" : 144\n",
      "      } ] ]\n",
      "    }\n",
      "  } ]\n",
      "}\n"
     ]
    }
   ],
   "source": [
    "path = path_widget.value.replace('\\\\','/') \n",
    "info = getReceiptInfo(path)\n",
    "display(file = path)"
   ]
  },
  {
   "cell_type": "code",
   "execution_count": 6,
   "id": "4f8ff87b",
   "metadata": {},
   "outputs": [
    {
     "name": "stdout",
     "output_type": "stream",
     "text": [
      "['cream', 'double cream', 'british double cream', 'strawberries', 'cake', 'sponge cake', 'chocolate sponge cake', 'chocolate', 'cooking chocolate', 'dark cooking chocolate']\n"
     ]
    }
   ],
   "source": [
    "json_info = json.loads(info)\n",
    "if json_info['receipts']:\n",
    "    info = getItemList(info)\n",
    "    info = removeStopWords(info)\n",
    "elif json_info['message']:\n",
    "    print(info['message'])\n",
    "else:\n",
    "    print(\"Unknown error occured. Please come again later\")"
   ]
  },
  {
   "cell_type": "code",
   "execution_count": null,
   "id": "ee1168ed",
   "metadata": {},
   "outputs": [],
   "source": []
  }
 ],
 "metadata": {
  "kernelspec": {
   "display_name": "Python 3 (ipykernel)",
   "language": "python",
   "name": "python3"
  },
  "language_info": {
   "codemirror_mode": {
    "name": "ipython",
    "version": 3
   },
   "file_extension": ".py",
   "mimetype": "text/x-python",
   "name": "python",
   "nbconvert_exporter": "python",
   "pygments_lexer": "ipython3",
   "version": "3.10.13"
  }
 },
 "nbformat": 4,
 "nbformat_minor": 5
}
