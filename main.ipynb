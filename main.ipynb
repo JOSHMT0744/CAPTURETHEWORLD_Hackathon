{
 "cells": [
  {
   "cell_type": "markdown",
   "id": "e01b5bba",
   "metadata": {},
   "source": [
    "# Recipe Recommender"
   ]
  },
  {
   "cell_type": "code",
   "execution_count": 2,
   "id": "d828dcbc",
   "metadata": {},
   "outputs": [
    {
     "name": "stderr",
     "output_type": "stream",
     "text": [
      "[nltk_data] Downloading package stopwords to\n",
      "[nltk_data]     C:\\Users\\josht\\AppData\\Roaming\\nltk_data...\n",
      "[nltk_data]   Package stopwords is already up-to-date!\n"
     ]
    }
   ],
   "source": [
    "import ipywidgets as widgets \n",
    "from receipt_translate import getReceiptInfo, getItemList, removeStopWords\n",
    "from interface import getReceiptImage\n",
    "import pandas as pd\n",
    "from db import findRecipes\n",
    "import json"
   ]
  },
  {
   "cell_type": "code",
   "execution_count": 12,
   "id": "0845c5dc",
   "metadata": {},
   "outputs": [
    {
     "data": {
      "application/vnd.jupyter.widget-view+json": {
       "model_id": "72586fccb55e4d0983fd5d9dba19a6f2",
       "version_major": 2,
       "version_minor": 0
      },
      "text/plain": [
       "FileUpload(value=(), accept='image/*', description='Upload')"
      ]
     },
     "metadata": {},
     "output_type": "display_data"
    }
   ],
   "source": [
    "uploader = widgets.FileUpload(accept='image/*', multiple=False)\n",
    "display(uploader)"
   ]
  },
  {
   "cell_type": "markdown",
   "id": "63172a81",
   "metadata": {},
   "source": [
    "### View Image below"
   ]
  },
  {
   "cell_type": "code",
   "execution_count": 13,
   "id": "58ccf0fd",
   "metadata": {},
   "outputs": [
    {
     "data": {
      "application/vnd.jupyter.widget-view+json": {
       "model_id": "b630786143ac47b18114e04cade7d5f7",
       "version_major": 2,
       "version_minor": 0
      },
      "text/plain": [
       "Image(value=b'\\xff\\xd8\\xff\\xe0\\x00\\x10JFIF\\x00\\x01\\x01\\x00\\x00H\\x00H\\x00\\x00\\xff\\xe1\\x00XExif\\x00\\x00MM\\x00*\\x…"
      ]
     },
     "metadata": {},
     "output_type": "display_data"
    }
   ],
   "source": [
    "if uploader.value:\n",
    "    uploaded_file = uploader.value[0]\n",
    "    display(widgets.Image(value=uploaded_file.content.tobytes()))"
   ]
  },
  {
   "cell_type": "markdown",
   "id": "35d1e8e9",
   "metadata": {},
   "source": [
    "## Please enter the exact image path, so our software can process your receipt"
   ]
  },
  {
   "cell_type": "code",
   "execution_count": 16,
   "id": "52f205fb",
   "metadata": {},
   "outputs": [
    {
     "data": {
      "application/vnd.jupyter.widget-view+json": {
       "model_id": "2c027786e69d4c83a1220da149bf9d17",
       "version_major": 2,
       "version_minor": 0
      },
      "text/plain": [
       "Text(value='', description='Image path:', placeholder='Enter full image path')"
      ]
     },
     "metadata": {},
     "output_type": "display_data"
    }
   ],
   "source": [
    "path_widget = widgets.Text(\n",
    "    placeholder='Enter full image path',\n",
    "    description='Image path:',\n",
    "    disabled=False   \n",
    ")\n",
    "display(path_widget)"
   ]
  },
  {
   "cell_type": "code",
   "execution_count": 18,
   "id": "369b8a4b",
   "metadata": {},
   "outputs": [
    {
     "name": "stdout",
     "output_type": "stream",
     "text": [
      "{\n",
      "  \"ocr_type\" : \"receipts\",\n",
      "  \"request_id\" : \"P_87.75.27.53_lodcsp3t_bhj\",\n",
      "  \"ref_no\" : \"ocr_python_123\",\n",
      "  \"file_name\" : \"tesco_cake_receipt.jpg\",\n",
      "  \"request_received_on\" : 1698697776665,\n",
      "  \"success\" : true,\n",
      "  \"image_width\" : 640,\n",
      "  \"image_height\" : 480,\n",
      "  \"image_rotation\" : -1.550,\n",
      "  \"recognition_completed_on\" : 1698697777018,\n",
      "  \"receipts\" : [ {\n",
      "    \"merchant_name\" : \"Durhan Market Place Express\",\n",
      "    \"merchant_address\" : \"Durhan Market Place Express\",\n",
      "    \"merchant_phone\" : null,\n",
      "    \"merchant_website\" : null,\n",
      "    \"merchant_tax_reg_no\" : null,\n",
      "    \"merchant_company_reg_no\" : null,\n",
      "    \"region\" : null,\n",
      "    \"mall\" : null,\n",
      "    \"country\" : \"GB\",\n",
      "    \"receipt_no\" : \"A0000000041010\",\n",
      "    \"date\" : \"2023-10-23\",\n",
      "    \"time\" : \"11:41\",\n",
      "    \"items\" : [ {\n",
      "      \"amount\" : 1.40,\n",
      "      \"category\" : null,\n",
      "      \"description\" : \"Tesco British Double Cream\",\n",
      "      \"flags\" : \"\",\n",
      "      \"qty\" : 1,\n",
      "      \"remarks\" : null,\n",
      "      \"tags\" : null,\n",
      "      \"unitPrice\" : null\n",
      "    }, {\n",
      "      \"amount\" : 2.30,\n",
      "      \"category\" : null,\n",
      "      \"description\" : \"Tesco Strawberries 227g (c)\",\n",
      "      \"flags\" : \"\",\n",
      "      \"qty\" : 1,\n",
      "      \"remarks\" : null,\n",
      "      \"tags\" : null,\n",
      "      \"unitPrice\" : null\n",
      "    }, {\n",
      "      \"amount\" : 1.40,\n",
      "      \"category\" : null,\n",
      "      \"description\" : \"Tesco Chocolate Sponge Cake\",\n",
      "      \"flags\" : \"\",\n",
      "      \"qty\" : 1,\n",
      "      \"remarks\" : null,\n",
      "      \"tags\" : null,\n",
      "      \"unitPrice\" : null\n",
      "    }, {\n",
      "      \"amount\" : 1.25,\n",
      "      \"category\" : null,\n",
      "      \"description\" : \"Tesco Dark Cooking Chocolate\",\n",
      "      \"flags\" : \"\",\n",
      "      \"qty\" : null,\n",
      "      \"remarks\" : null,\n",
      "      \"tags\" : null,\n",
      "      \"unitPrice\" : null\n",
      "    } ],\n",
      "    \"currency\" : \"GBP\",\n",
      "    \"total\" : 6.35,\n",
      "    \"subtotal\" : null,\n",
      "    \"tax\" : null,\n",
      "    \"service_charge\" : null,\n",
      "    \"tip\" : null,\n",
      "    \"payment_method\" : null,\n",
      "    \"payment_details\" : null,\n",
      "    \"credit_card_type\" : \"MASTER\",\n",
      "    \"credit_card_number\" : \"3403\",\n",
      "    \"ocr_text\" : \"          Durhan Market Place Express\\n           Any questions please visit\\n          www.tesco.com/store-locator\\n           VAT Number: G8 220 4302 31\\n  1   Tesco British Double Cream         1.40\\n      300ml\\n 1    Tesco Strawberries 227g (c)       £ 2.30\\n 1    Tesco Chocolate Sponge Cake        1.40\\n      Mix 400g\\n      Tesco Dark Cooking Chocolate       1.25\\n      150g\\n  TOTAL:                                 £ 6.35\\n     Card                               £ 6.35\\n Clubcard points earned:                     6\\n Clubcard points balance:                 120\\n Mastercard Debit\\n                                A0000000041010\\n Numbers                      ************ 3403\\n Pan sequence no:                           00\\n Authorisation code:                    655691\\n Merchant                             26284805\\n   A chance to win a £ 1000 Tesco gift card\\n       and collect 25 Clubcard points.\\n  Visit www.tescoviews.com t's & c's apply.\\n             656E-12PD-NO32-B3ZM\\n 23/10/2023 11:41 Store: 6029 Checkout: 208\",\n",
      "    \"ocr_confidence\" : 95.54,\n",
      "    \"width\" : 237,\n",
      "    \"height\" : 399,\n",
      "    \"avg_char_width\" : 5.2321,\n",
      "    \"avg_line_height\" : 9.1,\n",
      "    \"conf_amount\" : 74,\n",
      "    \"source_locations\" : {\n",
      "      \"date\" : [ [ {\n",
      "        \"y\" : 395,\n",
      "        \"x\" : 511\n",
      "      }, {\n",
      "        \"y\" : 296,\n",
      "        \"x\" : 513\n",
      "      }, {\n",
      "        \"y\" : 296,\n",
      "        \"x\" : 527\n",
      "      }, {\n",
      "        \"y\" : 395,\n",
      "        \"x\" : 525\n",
      "      } ] ],\n",
      "      \"total\" : [ [ {\n",
      "        \"y\" : 177,\n",
      "        \"x\" : 277\n",
      "      }, {\n",
      "        \"y\" : 148,\n",
      "        \"x\" : 277\n",
      "      }, {\n",
      "        \"y\" : 148,\n",
      "        \"x\" : 284\n",
      "      }, {\n",
      "        \"y\" : 177,\n",
      "        \"x\" : 284\n",
      "      } ] ],\n",
      "      \"receipt_no\" : [ [ {\n",
      "        \"y\" : 227,\n",
      "        \"x\" : 348\n",
      "      }, {\n",
      "        \"y\" : 147,\n",
      "        \"x\" : 348\n",
      "      }, {\n",
      "        \"y\" : 147,\n",
      "        \"x\" : 357\n",
      "      }, {\n",
      "        \"y\" : 227,\n",
      "        \"x\" : 357\n",
      "      } ] ],\n",
      "      \"merchant_name\" : [ [ {\n",
      "        \"y\" : 337,\n",
      "        \"x\" : 134\n",
      "      }, {\n",
      "        \"y\" : 186,\n",
      "        \"x\" : 136\n",
      "      }, {\n",
      "        \"y\" : 186,\n",
      "        \"x\" : 147\n",
      "      }, {\n",
      "        \"y\" : 337,\n",
      "        \"x\" : 144\n",
      "      } ] ],\n",
      "      \"doc\" : [ [ {\n",
      "        \"y\" : 394,\n",
      "        \"x\" : 110\n",
      "      }, {\n",
      "        \"y\" : 132,\n",
      "        \"x\" : 116\n",
      "      }, {\n",
      "        \"y\" : 141,\n",
      "        \"x\" : 555\n",
      "      }, {\n",
      "        \"y\" : 403,\n",
      "        \"x\" : 549\n",
      "      } ] ],\n",
      "      \"merchant_address\" : [ [ {\n",
      "        \"y\" : 345,\n",
      "        \"x\" : 133\n",
      "      }, {\n",
      "        \"y\" : 178,\n",
      "        \"x\" : 136\n",
      "      }, {\n",
      "        \"y\" : 178,\n",
      "        \"x\" : 148\n",
      "      }, {\n",
      "        \"y\" : 345,\n",
      "        \"x\" : 144\n",
      "      } ] ]\n",
      "    }\n",
      "  } ]\n",
      "}\n"
     ]
    }
   ],
   "source": [
    "path = path_widget.value.replace('\\\\','/') .replace(\"\\\"\", \"\")\n",
    "info = getReceiptInfo(path)\n",
    "display(file = path)"
   ]
  },
  {
   "cell_type": "code",
   "execution_count": null,
   "id": "4f8ff87b",
   "metadata": {},
   "outputs": [
    {
     "name": "stdout",
     "output_type": "stream",
     "text": [
      "['cream', 'double cream', 'british double cream', 'strawberries', 'cake', 'sponge cake', 'chocolate sponge cake', 'chocolate', 'cooking chocolate', 'dark cooking chocolate']\n",
      "\\[(')*(.*(, '.*')*'.*(cream|double cream|british double cream|strawberries|cake|sponge cake|chocolate sponge cake|chocolate|cooking chocolate|dark cooking chocolate)'(, '.*')*)+(.*(, '.*')*'.*(cream|double cream|british double cream|strawberries|cake|sponge cake|chocolate sponge cake|chocolate|cooking chocolate|dark cooking chocolate)'(, '.*')*)+(.*(, '.*')*'.*(cream|double cream|british double cream|strawberries|cake|sponge cake|chocolate sponge cake|chocolate|cooking chocolate|dark cooking chocolate)'(, '.*')*)+(.*(, '.*')*'.*(cream|double cream|british double cream|strawberries|cake|sponge cake|chocolate sponge cake|chocolate|cooking chocolate|dark cooking chocolate)'(, '.*')*)+(.*(, '.*')*'.*(cream|double cream|british double cream|strawberries|cake|sponge cake|chocolate sponge cake|chocolate|cooking chocolate|dark cooking chocolate)'(, '.*')*)+(.*(, '.*')*'.*(cream|double cream|british double cream|strawberries|cake|sponge cake|chocolate sponge cake|chocolate|cooking chocolate|dark cooking chocolate)'(, '.*')*)+(.*(, '.*')*'.*(cream|double cream|british double cream|strawberries|cake|sponge cake|chocolate sponge cake|chocolate|cooking chocolate|dark cooking chocolate)'(, '.*')*)+(.*(, '.*')*'.*(cream|double cream|british double cream|strawberries|cake|sponge cake|chocolate sponge cake|chocolate|cooking chocolate|dark cooking chocolate)'(, '.*')*)+(.*(, '.*')*'.*(cream|double cream|british double cream|strawberries|cake|sponge cake|chocolate sponge cake|chocolate|cooking chocolate|dark cooking chocolate)'(, '.*')*)+(.*(, '.*')*'.*(cream|double cream|british double cream|strawberries|cake|sponge cake|chocolate sponge cake|chocolate|cooking chocolate|dark cooking chocolate)'(, '.*')*)+\\]\n"
     ]
    }
   ],
   "source": [
    "json_info = json.loads(info)\n",
    "if json_info['receipts']:\n",
    "    info = getItemList(info)\n",
    "    info = removeStopWords(info)\n",
    "    top_3_recipes = findRecipes(info)\n",
    "elif json_info['message']:\n",
    "    print(info['message'])\n",
    "else:\n",
    "    print(\"Unknown error occured. Please come again later\")"
   ]
  },
  {
   "cell_type": "code",
   "execution_count": null,
   "id": "ad51dc68",
   "metadata": {},
   "outputs": [],
   "source": [
    "output = widgets.Output()\n",
    "if len(top_3_recipes) == 0:\n",
    "    with output:\n",
    "        print(\"No recipes found\")\n",
    "else:\n",
    "    with output:\n",
    "        display(HTML(top_3_recipes.to_html()))\n",
    "    display(widgets.VBox(children=[output], layout={\"height\": \"300px\", \"scroll\": \"auto\"}))"
   ]
  },
  {
   "cell_type": "code",
   "execution_count": 3,
   "id": "3e250aac",
   "metadata": {},
   "outputs": [
    {
     "name": "stdout",
     "output_type": "stream",
     "text": [
      "\\[(')*(.*(, '.*')*'.*(lettuce|oil)'(, '.*')*)+(.*(, '.*')*'.*(lettuce|oil)'(, '.*')*)+\\]\n",
      "['tomato juice', 'apple cider vinegar', 'sugar', 'salt', 'pepper', 'clove oil', 'cinnamon oil', 'dry mustard']\n",
      "['vermicelli', 'rice vinegar', 'reduced sodium soy sauce', 'vegetable oil', 'fresh ginger', 'chili-garlic sauce', 'sesame oil', 'green onions', 'broccoli', 'cooked chicken', 'fresh cilantro', 'sesame seeds']\n",
      "['light olive oil', 'red wine vinegar', 'garlic', 'salt', 'fresh basil', 'black pepper', 'white kidney beans', 'albacore tuna in water', 'scallions', 'red sweet bell peppers', 'bibb lettuce']\n",
      "['fish', 'scallions', 'rice wine', 'peanut oil', 'sesame oil', 'white pepper', 'salt', 'gingerroot', 'low sodium soy sauce']\n",
      "['seedless cucumber', 'red ripe tomatoes', 'red onion', 'red bell pepper', 'water-packed artichoke hearts', 'italian parsley', 'kosher salt & freshly ground black pepper', 'lemon, juice of', 'shallot', 'red wine vinegar', 'oregano', 'extra virgin olive oil', 'tuna in vegetable oil', 'pepperoncini peppers', 'kalamata olive']\n",
      "['lettuce', 'tomatoes', 'pitted ripe olives', 'green onion', 'corn chips', 'tuna', 'cheddar cheese', 'avocado', 'lemon juice', 'sour cream', 'salad oil', 'garlic clove', 'sugar', 'chili powder', 'salt', 'tabasco sauce']\n",
      "[44061, 107229, 108804, 37841, 205331, 140855]\n",
      "                                          name      id  \\\n",
      "0           amish  tomato ketchup  for canning   44061   \n",
      "1                         open sesame  noodles  107229   \n",
      "2     put down your fork   tuna and bean salad  108804   \n",
      "3  1 favorite chinese steamed whole fish by sy   37841   \n",
      "4                            chic  greek salad  205331   \n",
      "5             meal in a bowl   guacamole salad  140855   \n",
      "\n",
      "                                               steps  \\\n",
      "0  ['mix all ingredients& boil for 2 1 / 2 hours ...   \n",
      "1  ['cook pasta in salted water until al dente', ...   \n",
      "2  ['in salad bowl , combine oil , vinegar , garl...   \n",
      "3  ['clean and scale the fish and remove the insi...   \n",
      "4  ['arrange the cucumbers , tomatoes , onion , r...   \n",
      "5  ['to make the salad: have all ingredients chil...   \n",
      "\n",
      "                                         description  \\\n",
      "0  my dh's amish mother raised him on this recipe...   \n",
      "1  this is a very versatile and widely enjoyed pa...   \n",
      "2  the story behind this comes from a simple reci...   \n",
      "3  steamed whole fresh fish is one of the best li...   \n",
      "4  a super, veggie-packed salad.  courtesy of rac...   \n",
      "5  this is a great alternative to the traditional...   \n",
      "\n",
      "                                         ingredients  ingredient_count  \n",
      "0  ['tomato juice', 'apple cider vinegar', 'sugar...               110  \n",
      "1  ['vermicelli', 'rice vinegar', 'reduced sodium...               207  \n",
      "2  ['light olive oil', 'red wine vinegar', 'garli...               191  \n",
      "3  ['fish', 'scallions', 'rice wine', 'peanut oil...               124  \n",
      "4  ['seedless cucumber', 'red ripe tomatoes', 're...               325  \n",
      "5  ['lettuce', 'tomatoes', 'pitted ripe olives', ...               219  \n"
     ]
    },
    {
     "data": {
      "text/html": [
       "<div>\n",
       "<style scoped>\n",
       "    .dataframe tbody tr th:only-of-type {\n",
       "        vertical-align: middle;\n",
       "    }\n",
       "\n",
       "    .dataframe tbody tr th {\n",
       "        vertical-align: top;\n",
       "    }\n",
       "\n",
       "    .dataframe thead th {\n",
       "        text-align: right;\n",
       "    }\n",
       "</style>\n",
       "<table border=\"1\" class=\"dataframe\">\n",
       "  <thead>\n",
       "    <tr style=\"text-align: right;\">\n",
       "      <th></th>\n",
       "      <th>name</th>\n",
       "      <th>id</th>\n",
       "      <th>steps</th>\n",
       "      <th>description</th>\n",
       "      <th>ingredients</th>\n",
       "      <th>ingredient_count</th>\n",
       "    </tr>\n",
       "  </thead>\n",
       "  <tbody>\n",
       "    <tr>\n",
       "      <th>4</th>\n",
       "      <td>chic  greek salad</td>\n",
       "      <td>205331</td>\n",
       "      <td>['arrange the cucumbers , tomatoes , onion , r...</td>\n",
       "      <td>a super, veggie-packed salad.  courtesy of rac...</td>\n",
       "      <td>['seedless cucumber', 'red ripe tomatoes', 're...</td>\n",
       "      <td>325</td>\n",
       "    </tr>\n",
       "    <tr>\n",
       "      <th>5</th>\n",
       "      <td>meal in a bowl   guacamole salad</td>\n",
       "      <td>140855</td>\n",
       "      <td>['to make the salad: have all ingredients chil...</td>\n",
       "      <td>this is a great alternative to the traditional...</td>\n",
       "      <td>['lettuce', 'tomatoes', 'pitted ripe olives', ...</td>\n",
       "      <td>219</td>\n",
       "    </tr>\n",
       "    <tr>\n",
       "      <th>1</th>\n",
       "      <td>open sesame  noodles</td>\n",
       "      <td>107229</td>\n",
       "      <td>['cook pasta in salted water until al dente', ...</td>\n",
       "      <td>this is a very versatile and widely enjoyed pa...</td>\n",
       "      <td>['vermicelli', 'rice vinegar', 'reduced sodium...</td>\n",
       "      <td>207</td>\n",
       "    </tr>\n",
       "  </tbody>\n",
       "</table>\n",
       "</div>"
      ],
      "text/plain": [
       "                               name      id  \\\n",
       "4                 chic  greek salad  205331   \n",
       "5  meal in a bowl   guacamole salad  140855   \n",
       "1              open sesame  noodles  107229   \n",
       "\n",
       "                                               steps  \\\n",
       "4  ['arrange the cucumbers , tomatoes , onion , r...   \n",
       "5  ['to make the salad: have all ingredients chil...   \n",
       "1  ['cook pasta in salted water until al dente', ...   \n",
       "\n",
       "                                         description  \\\n",
       "4  a super, veggie-packed salad.  courtesy of rac...   \n",
       "5  this is a great alternative to the traditional...   \n",
       "1  this is a very versatile and widely enjoyed pa...   \n",
       "\n",
       "                                         ingredients  ingredient_count  \n",
       "4  ['seedless cucumber', 'red ripe tomatoes', 're...               325  \n",
       "5  ['lettuce', 'tomatoes', 'pitted ripe olives', ...               219  \n",
       "1  ['vermicelli', 'rice vinegar', 'reduced sodium...               207  "
      ]
     },
     "execution_count": 3,
     "metadata": {},
     "output_type": "execute_result"
    }
   ],
   "source": [
    "data = ['lettuce', 'oil']\n",
    "findRecipes(data)"
   ]
  }
 ],
 "metadata": {
  "kernelspec": {
   "display_name": "Python 3 (ipykernel)",
   "language": "python",
   "name": "python3"
  },
  "language_info": {
   "codemirror_mode": {
    "name": "ipython",
    "version": 3
   },
   "file_extension": ".py",
   "mimetype": "text/x-python",
   "name": "python",
   "nbconvert_exporter": "python",
   "pygments_lexer": "ipython3",
   "version": "3.10.13"
  }
 },
 "nbformat": 4,
 "nbformat_minor": 5
}
